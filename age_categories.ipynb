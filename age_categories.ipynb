{
 "cells": [
  {
   "cell_type": "markdown",
   "id": "3b564c57",
   "metadata": {},
   "source": [
    "age by categories\n"
   ]
  },
  {
   "cell_type": "code",
   "execution_count": 5,
   "id": "62caffc3",
   "metadata": {},
   "outputs": [
    {
     "name": "stdout",
     "output_type": "stream",
     "text": [
      "      ID gender  win_year   category  day born  month  year_born zod_year  \\\n",
      "0    198   male      1938  chemistry         3     12       1900      rat   \n",
      "1    211   male      1950  chemistry        10      7       1902    tiger   \n",
      "2    208   male      1948  chemistry        10      8       1902    tiger   \n",
      "3    269   male      1987  chemistry         3     10       1904   dragon   \n",
      "4    239   male      1970  chemistry         6      9       1906    horse   \n",
      "..   ...    ...       ...        ...       ...    ...        ...      ...   \n",
      "929  100   male      1974    physics        27      9       1918    horse   \n",
      "930   46   male      1938    physics        29      9       1901       ox   \n",
      "931  116   male      1980    physics        29      9       1931     goat   \n",
      "932  944   male      2017    physics        29      9       1932   monkey   \n",
      "933  108   male      1977    physics        30      9       1905    snake   \n",
      "\n",
      "       zod_month          zod all  age_winners  \n",
      "0    sagittarius  rat sagittarius           38  \n",
      "1         cancer     tiger cancer           48  \n",
      "2            leo        tiger leo           46  \n",
      "3          libra     dragon libra           83  \n",
      "4          virgo      horse virgo           64  \n",
      "..           ...              ...          ...  \n",
      "929        libra      horse libra           56  \n",
      "930        libra         ox libra           37  \n",
      "931        libra       goat libra           49  \n",
      "932        libra     monkey libra           85  \n",
      "933        libra      snake libra           72  \n",
      "\n",
      "[934 rows x 11 columns]\n"
     ]
    },
    {
     "data": {
      "image/png": "[encoded data removed]",
      "text/plain": [
       "<Figure size 432x288 with 1 Axes>"
      ]
     },
     "metadata": {
      "needs_background": "light"
     },
     "output_type": "display_data"
    }
   ],
   "source": [
    "import pandas as pd\n",
    "import matplotlib.pyplot as plt\n",
    "import matplotlib.style\n",
    "import matplotlib as mpl\n",
    "import matplotlib.animation as pltan\n",
    "plt.style.use('bmh')\n",
    "\n",
    "\n",
    "egzel = pd.read_csv('C:\\\\Users\\\\HP PAVILION GAMING\\\\OneDrive\\\\Рабочий стол\\\\new19_9\\\\my_data111.csv')\n",
    "egzel.rename(columns= {'win year': 'win_year', 'year born':'year_born'}, inplace=True)\n",
    "egzel['age_winners'] = egzel['win_year'] - egzel['year_born']\n",
    "print(egzel)\n",
    "chemistry_age=egzel.loc[egzel.category == 'chemistry']['age_winners']\n",
    "physics_age=egzel.loc[egzel.category == 'physics']['age_winners']\n",
    "medicine_age=egzel.loc[egzel.category == 'medicine']['age_winners']\n",
    "literature_age=egzel.loc[egzel.category == 'literature']['age_winners']\n",
    "economics_age=egzel.loc[egzel.category == 'economics']['age_winners']\n",
    "peace_age=egzel.loc[egzel.category == 'peace']['age_winners']\n",
    "\n",
    "labels = ['chemistry', 'physics', 'medicine', 'literature', 'economics', 'peace']\n",
    "plt.boxplot([chemistry_age, physics_age, medicine_age, literature_age, economics_age, peace_age], labels=labels)\n",
    "plt.title('Age of winners by categories', color='blue')\n",
    "plt.ylabel('age', color='red')\n",
    "plt.xlabel('categories', color='red')\n",
    "plt.show()"
   ]
  },
  {
   "cell_type": "code",
   "execution_count": null,
   "id": "5c9a0355",
   "metadata": {},
   "outputs": [],
   "source": []
  }
 ],
 "metadata": {
  "kernelspec": {
   "display_name": "Python 3",
   "language": "python",
   "name": "python3"
  },
  "language_info": {
   "codemirror_mode": {
    "name": "ipython",
    "version": 3
   },
   "file_extension": ".py",
   "mimetype": "text/x-python",
   "name": "python",
   "nbconvert_exporter": "python",
   "pygments_lexer": "ipython3",
   "version": "3.8.8"
  }
 },
 "nbformat": 4,
 "nbformat_minor": 5
}
